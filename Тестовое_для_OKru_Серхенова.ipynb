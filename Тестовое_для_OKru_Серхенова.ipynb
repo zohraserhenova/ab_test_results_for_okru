{
  "nbformat": 4,
  "nbformat_minor": 0,
  "metadata": {
    "colab": {
      "provenance": []
    },
    "kernelspec": {
      "name": "python3",
      "display_name": "Python 3"
    },
    "language_info": {
      "name": "python"
    }
  },
  "cells": [
    {
      "cell_type": "markdown",
      "source": [
        "**Рекомендации менеджеру по результатам A/B-тестирования**\n",
        "\n",
        "Автор: Зохра Серхенова"
      ],
      "metadata": {
        "id": "KYLKxqHAB2Hl"
      }
    },
    {
      "cell_type": "markdown",
      "source": [
        "1. Сначала загружаем и обрабатываем данные"
      ],
      "metadata": {
        "id": "yn1RtdcuCM4L"
      }
    },
    {
      "cell_type": "code",
      "source": [
        "from google.colab import drive\n",
        "drive.mount('/content/drive')\n",
        "import pandas as pd\n",
        "data = pd.read_excel('/content/drive/MyDrive/AB_Test_Results.xlsx')\n",
        "data.head()"
      ],
      "metadata": {
        "colab": {
          "base_uri": "https://localhost:8080/",
          "height": 258
        },
        "id": "pt8FsfQSBGFQ",
        "outputId": "7a593869-c4ad-49d9-898d-ff839b2e560b"
      },
      "execution_count": 36,
      "outputs": [
        {
          "output_type": "stream",
          "name": "stdout",
          "text": [
            "Drive already mounted at /content/drive; to attempt to forcibly remount, call drive.mount(\"/content/drive\", force_remount=True).\n"
          ]
        },
        {
          "output_type": "stream",
          "name": "stderr",
          "text": [
            "/usr/local/lib/python3.10/dist-packages/openpyxl/worksheet/_reader.py:329: UserWarning: Unknown extension is not supported and will be removed\n",
            "  warn(msg)\n"
          ]
        },
        {
          "output_type": "execute_result",
          "data": {
            "text/plain": [
              "   USER_ID VARIANT_NAME  REVENUE\n",
              "0      737      variant      0.0\n",
              "1     2423      control      0.0\n",
              "2     9411      control      0.0\n",
              "3     7311      control      0.0\n",
              "4     6174      variant      0.0"
            ],
            "text/html": [
              "\n",
              "  <div id=\"df-197e44e3-7738-4019-92fa-17d35dfa74a6\" class=\"colab-df-container\">\n",
              "    <div>\n",
              "<style scoped>\n",
              "    .dataframe tbody tr th:only-of-type {\n",
              "        vertical-align: middle;\n",
              "    }\n",
              "\n",
              "    .dataframe tbody tr th {\n",
              "        vertical-align: top;\n",
              "    }\n",
              "\n",
              "    .dataframe thead th {\n",
              "        text-align: right;\n",
              "    }\n",
              "</style>\n",
              "<table border=\"1\" class=\"dataframe\">\n",
              "  <thead>\n",
              "    <tr style=\"text-align: right;\">\n",
              "      <th></th>\n",
              "      <th>USER_ID</th>\n",
              "      <th>VARIANT_NAME</th>\n",
              "      <th>REVENUE</th>\n",
              "    </tr>\n",
              "  </thead>\n",
              "  <tbody>\n",
              "    <tr>\n",
              "      <th>0</th>\n",
              "      <td>737</td>\n",
              "      <td>variant</td>\n",
              "      <td>0.0</td>\n",
              "    </tr>\n",
              "    <tr>\n",
              "      <th>1</th>\n",
              "      <td>2423</td>\n",
              "      <td>control</td>\n",
              "      <td>0.0</td>\n",
              "    </tr>\n",
              "    <tr>\n",
              "      <th>2</th>\n",
              "      <td>9411</td>\n",
              "      <td>control</td>\n",
              "      <td>0.0</td>\n",
              "    </tr>\n",
              "    <tr>\n",
              "      <th>3</th>\n",
              "      <td>7311</td>\n",
              "      <td>control</td>\n",
              "      <td>0.0</td>\n",
              "    </tr>\n",
              "    <tr>\n",
              "      <th>4</th>\n",
              "      <td>6174</td>\n",
              "      <td>variant</td>\n",
              "      <td>0.0</td>\n",
              "    </tr>\n",
              "  </tbody>\n",
              "</table>\n",
              "</div>\n",
              "    <div class=\"colab-df-buttons\">\n",
              "\n",
              "  <div class=\"colab-df-container\">\n",
              "    <button class=\"colab-df-convert\" onclick=\"convertToInteractive('df-197e44e3-7738-4019-92fa-17d35dfa74a6')\"\n",
              "            title=\"Convert this dataframe to an interactive table.\"\n",
              "            style=\"display:none;\">\n",
              "\n",
              "  <svg xmlns=\"http://www.w3.org/2000/svg\" height=\"24px\" viewBox=\"0 -960 960 960\">\n",
              "    <path d=\"M120-120v-720h720v720H120Zm60-500h600v-160H180v160Zm220 220h160v-160H400v160Zm0 220h160v-160H400v160ZM180-400h160v-160H180v160Zm440 0h160v-160H620v160ZM180-180h160v-160H180v160Zm440 0h160v-160H620v160Z\"/>\n",
              "  </svg>\n",
              "    </button>\n",
              "\n",
              "  <style>\n",
              "    .colab-df-container {\n",
              "      display:flex;\n",
              "      gap: 12px;\n",
              "    }\n",
              "\n",
              "    .colab-df-convert {\n",
              "      background-color: #E8F0FE;\n",
              "      border: none;\n",
              "      border-radius: 50%;\n",
              "      cursor: pointer;\n",
              "      display: none;\n",
              "      fill: #1967D2;\n",
              "      height: 32px;\n",
              "      padding: 0 0 0 0;\n",
              "      width: 32px;\n",
              "    }\n",
              "\n",
              "    .colab-df-convert:hover {\n",
              "      background-color: #E2EBFA;\n",
              "      box-shadow: 0px 1px 2px rgba(60, 64, 67, 0.3), 0px 1px 3px 1px rgba(60, 64, 67, 0.15);\n",
              "      fill: #174EA6;\n",
              "    }\n",
              "\n",
              "    .colab-df-buttons div {\n",
              "      margin-bottom: 4px;\n",
              "    }\n",
              "\n",
              "    [theme=dark] .colab-df-convert {\n",
              "      background-color: #3B4455;\n",
              "      fill: #D2E3FC;\n",
              "    }\n",
              "\n",
              "    [theme=dark] .colab-df-convert:hover {\n",
              "      background-color: #434B5C;\n",
              "      box-shadow: 0px 1px 3px 1px rgba(0, 0, 0, 0.15);\n",
              "      filter: drop-shadow(0px 1px 2px rgba(0, 0, 0, 0.3));\n",
              "      fill: #FFFFFF;\n",
              "    }\n",
              "  </style>\n",
              "\n",
              "    <script>\n",
              "      const buttonEl =\n",
              "        document.querySelector('#df-197e44e3-7738-4019-92fa-17d35dfa74a6 button.colab-df-convert');\n",
              "      buttonEl.style.display =\n",
              "        google.colab.kernel.accessAllowed ? 'block' : 'none';\n",
              "\n",
              "      async function convertToInteractive(key) {\n",
              "        const element = document.querySelector('#df-197e44e3-7738-4019-92fa-17d35dfa74a6');\n",
              "        const dataTable =\n",
              "          await google.colab.kernel.invokeFunction('convertToInteractive',\n",
              "                                                    [key], {});\n",
              "        if (!dataTable) return;\n",
              "\n",
              "        const docLinkHtml = 'Like what you see? Visit the ' +\n",
              "          '<a target=\"_blank\" href=https://colab.research.google.com/notebooks/data_table.ipynb>data table notebook</a>'\n",
              "          + ' to learn more about interactive tables.';\n",
              "        element.innerHTML = '';\n",
              "        dataTable['output_type'] = 'display_data';\n",
              "        await google.colab.output.renderOutput(dataTable, element);\n",
              "        const docLink = document.createElement('div');\n",
              "        docLink.innerHTML = docLinkHtml;\n",
              "        element.appendChild(docLink);\n",
              "      }\n",
              "    </script>\n",
              "  </div>\n",
              "\n",
              "\n",
              "<div id=\"df-e78475f4-c654-454c-8945-e7b4f226e23b\">\n",
              "  <button class=\"colab-df-quickchart\" onclick=\"quickchart('df-e78475f4-c654-454c-8945-e7b4f226e23b')\"\n",
              "            title=\"Suggest charts.\"\n",
              "            style=\"display:none;\">\n",
              "\n",
              "<svg xmlns=\"http://www.w3.org/2000/svg\" height=\"24px\"viewBox=\"0 0 24 24\"\n",
              "     width=\"24px\">\n",
              "    <g>\n",
              "        <path d=\"M19 3H5c-1.1 0-2 .9-2 2v14c0 1.1.9 2 2 2h14c1.1 0 2-.9 2-2V5c0-1.1-.9-2-2-2zM9 17H7v-7h2v7zm4 0h-2V7h2v10zm4 0h-2v-4h2v4z\"/>\n",
              "    </g>\n",
              "</svg>\n",
              "  </button>\n",
              "\n",
              "<style>\n",
              "  .colab-df-quickchart {\n",
              "    background-color: #E8F0FE;\n",
              "    border: none;\n",
              "    border-radius: 50%;\n",
              "    cursor: pointer;\n",
              "    display: none;\n",
              "    fill: #1967D2;\n",
              "    height: 32px;\n",
              "    padding: 0 0 0 0;\n",
              "    width: 32px;\n",
              "  }\n",
              "\n",
              "  .colab-df-quickchart:hover {\n",
              "    background-color: #E2EBFA;\n",
              "    box-shadow: 0px 1px 2px rgba(60, 64, 67, 0.3), 0px 1px 3px 1px rgba(60, 64, 67, 0.15);\n",
              "    fill: #174EA6;\n",
              "  }\n",
              "\n",
              "  [theme=dark] .colab-df-quickchart {\n",
              "    background-color: #3B4455;\n",
              "    fill: #D2E3FC;\n",
              "  }\n",
              "\n",
              "  [theme=dark] .colab-df-quickchart:hover {\n",
              "    background-color: #434B5C;\n",
              "    box-shadow: 0px 1px 3px 1px rgba(0, 0, 0, 0.15);\n",
              "    filter: drop-shadow(0px 1px 2px rgba(0, 0, 0, 0.3));\n",
              "    fill: #FFFFFF;\n",
              "  }\n",
              "</style>\n",
              "\n",
              "  <script>\n",
              "    async function quickchart(key) {\n",
              "      const charts = await google.colab.kernel.invokeFunction(\n",
              "          'suggestCharts', [key], {});\n",
              "    }\n",
              "    (() => {\n",
              "      let quickchartButtonEl =\n",
              "        document.querySelector('#df-e78475f4-c654-454c-8945-e7b4f226e23b button');\n",
              "      quickchartButtonEl.style.display =\n",
              "        google.colab.kernel.accessAllowed ? 'block' : 'none';\n",
              "    })();\n",
              "  </script>\n",
              "</div>\n",
              "    </div>\n",
              "  </div>\n"
            ]
          },
          "metadata": {},
          "execution_count": 36
        }
      ]
    },
    {
      "cell_type": "markdown",
      "source": [
        "2. Проверяем данные на наличие пропущенных значений"
      ],
      "metadata": {
        "id": "wemmKhqSCUGL"
      }
    },
    {
      "cell_type": "code",
      "source": [
        "print(data.isnull().sum())"
      ],
      "metadata": {
        "colab": {
          "base_uri": "https://localhost:8080/"
        },
        "id": "QXbdDVG9Aj3W",
        "outputId": "a900813d-f51b-483f-c279-9a5c22ee8d4e"
      },
      "execution_count": 37,
      "outputs": [
        {
          "output_type": "stream",
          "name": "stdout",
          "text": [
            "USER_ID         0\n",
            "VARIANT_NAME    0\n",
            "REVENUE         0\n",
            "dtype: int64\n"
          ]
        }
      ]
    },
    {
      "cell_type": "markdown",
      "source": [
        "3. После того, как мы проверили данные на наличие пропущенных значений, мы можем приступать к их анализу"
      ],
      "metadata": {
        "id": "eKdtLg4KCdn7"
      }
    },
    {
      "cell_type": "code",
      "source": [
        "# Проверка общего числа пользователей в каждой выборке\n",
        "variant_counts = data['VARIANT_NAME'].value_counts()\n",
        "print(\"Количество пользователей в каждой выборке:\")\n",
        "print(variant_counts)"
      ],
      "metadata": {
        "colab": {
          "base_uri": "https://localhost:8080/"
        },
        "id": "TkeAKED_CvOq",
        "outputId": "43fa0ba7-1e6a-4a7b-fd77-275b91591fe0"
      },
      "execution_count": 38,
      "outputs": [
        {
          "output_type": "stream",
          "name": "stdout",
          "text": [
            "Количество пользователей в каждой выборке:\n",
            "variant    5016\n",
            "control    4984\n",
            "Name: VARIANT_NAME, dtype: int64\n"
          ]
        }
      ]
    },
    {
      "cell_type": "code",
      "source": [
        "# Разделяем данные на контрольную и вариативную группы\n",
        "control = data[data['VARIANT_NAME'] == 'control']\n",
        "variant = data[data['VARIANT_NAME'] == 'variant']\n",
        "\n",
        "# Считаем средний доход для каждой группы\n",
        "control_revenue = control['REVENUE'].mean()\n",
        "variant_revenue = variant['REVENUE'].mean()\n",
        "\n",
        "print('Средний доход для контрольной группы: ', control_revenue)\n",
        "print('Средний доход для вариативной группы: ', variant_revenue)\n",
        "\n",
        "# Визуализация различий в доходе\n",
        "import matplotlib.pyplot as plt\n",
        "\n",
        "# Визуализация суммарного дохода\n",
        "labels = ['Control', 'Variant']\n",
        "values = [control_revenue, variant_revenue]\n",
        "colors = ['blue', 'green']\n",
        "\n",
        "plt.bar(labels, values, color=colors)\n",
        "plt.xlabel('Выборка')\n",
        "plt.ylabel('Средний доход')\n",
        "plt.title('Различия в среднем доходе между выборками')\n",
        "plt.show()"
      ],
      "metadata": {
        "colab": {
          "base_uri": "https://localhost:8080/",
          "height": 507
        },
        "id": "Z47gRp11Arq2",
        "outputId": "bec60448-0749-4770-cf70-a06595e56e7c"
      },
      "execution_count": 40,
      "outputs": [
        {
          "output_type": "stream",
          "name": "stdout",
          "text": [
            "Средний доход для контрольной группы:  0.12901284109149277\n",
            "Средний доход для вариативной группы:  0.07006977671451356\n"
          ]
        },
        {
          "output_type": "display_data",
          "data": {
            "text/plain": [
              "<Figure size 640x480 with 1 Axes>"
            ],
            "image/png": "[encoded data removed]"
          },
          "metadata": {}
        }
      ]
    },
    {
      "cell_type": "code",
      "source": [
        "# Считаем суммарный доход для каждой группы\n",
        "control_revenue = control['REVENUE'].sum()\n",
        "variant_revenue = variant['REVENUE'].sum()\n",
        "\n",
        "print('Суммарный доход для контрольной группы: ', control_revenue)\n",
        "print('Суммарный доход для вариативной группы: ', variant_revenue)\n",
        "\n",
        "# Визуализация суммарного дохода\n",
        "labels = ['Control', 'Variant']\n",
        "values = [control_revenue, variant_revenue]\n",
        "colors = ['blue', 'green']\n",
        "\n",
        "plt.bar(labels, values, color=colors)\n",
        "plt.xlabel('Выборка')\n",
        "plt.ylabel('Суммарный доход')\n",
        "plt.title('Различия в суммарном доходе между выборками')\n",
        "plt.show()"
      ],
      "metadata": {
        "colab": {
          "base_uri": "https://localhost:8080/",
          "height": 507
        },
        "id": "8NwYtxknBDsU",
        "outputId": "8f4913bf-cef1-4c56-bce9-9e95e7212f05"
      },
      "execution_count": 41,
      "outputs": [
        {
          "output_type": "stream",
          "name": "stdout",
          "text": [
            "Суммарный доход для контрольной группы:  643.0\n",
            "Суммарный доход для вариативной группы:  351.47\n"
          ]
        },
        {
          "output_type": "display_data",
          "data": {
            "text/plain": [
              "<Figure size 640x480 with 1 Axes>"
            ],
            "image/png": "[encoded data removed]"
          },
          "metadata": {}
        }
      ]
    },
    {
      "cell_type": "markdown",
      "source": [
        "4. Теперь мы можем провести статистический тест, чтобы определить, есть ли значительная разница между двуми группами"
      ],
      "metadata": {
        "id": "BGuf-GpJDXij"
      }
    },
    {
      "cell_type": "code",
      "source": [
        "# Проверка статистической значимости различий в доходе между выборками\n",
        "from scipy.stats import ttest_ind\n",
        "\n",
        "control_revenue = data[data['VARIANT_NAME'] == 'control']['REVENUE']\n",
        "variant_revenue = data[data['VARIANT_NAME'] == 'variant']['REVENUE']\n",
        "\n",
        "t_stat, p_value = ttest_ind(control_revenue, variant_revenue)\n",
        "print(\"\\nСтатистическая значимость различий в доходе:\")\n",
        "print(\"t-статистика:\", t_stat)\n",
        "print(\"p-value:\", p_value)"
      ],
      "metadata": {
        "colab": {
          "base_uri": "https://localhost:8080/"
        },
        "id": "Ulh310lWEv_L",
        "outputId": "55360bf6-01c5-4c7a-f34a-b60bb547212c"
      },
      "execution_count": 42,
      "outputs": [
        {
          "output_type": "stream",
          "name": "stdout",
          "text": [
            "\n",
            "Статистическая значимость различий в доходе:\n",
            "t-статистика: 1.2711634519010084\n",
            "p-value: 0.20370007853373565\n"
          ]
        }
      ]
    },
    {
      "cell_type": "markdown",
      "source": [
        "5. В зависимости от результатов т-теста и среднего дохода каждой группы, можно сделать следующие выводы:"
      ],
      "metadata": {
        "id": "PGiS4751FIJr"
      }
    },
    {
      "cell_type": "code",
      "source": [
        "# Рекомендации\n",
        "if p_value < 0.05:\n",
        "    if variant_revenue['variant'] > control_revenue['control']:\n",
        "        print(\"\\nРекомендация: Вариант 'variant' статистически значимо увеличивает доход.\")\n",
        "    else:\n",
        "        print(\"\\nРекомендация: Вариант 'control' статистически значимо увеличивает доход.\")\n",
        "else:\n",
        "    print(\"\\nРекомендация: Результаты эксперимента не являются статистически значимыми.\")"
      ],
      "metadata": {
        "colab": {
          "base_uri": "https://localhost:8080/"
        },
        "id": "HQZhMStBE_80",
        "outputId": "a71fd41f-9c1c-440c-aec7-d453fae0231c"
      },
      "execution_count": 43,
      "outputs": [
        {
          "output_type": "stream",
          "name": "stdout",
          "text": [
            "\n",
            "Рекомендация: Результаты эксперимента не являются статистически значимыми.\n"
          ]
        }
      ]
    },
    {
      "cell_type": "markdown",
      "source": [
        "**ОБЩИЕ ВЫВОДЫ:**"
      ],
      "metadata": {
        "id": "ON8esUc-Fc9D"
      }
    },
    {
      "cell_type": "markdown",
      "source": [
        "Если p-value больше 0.05 и средний доход вариативной группы ниже, чем контрольной, то ***изменения не имели значительного влияния на доход***.\n",
        "\n",
        "Но при этом необходимо учитывать, что эти рекомендации базируются на статистическом анализе и могут не учитывать другие важные факторы, такие как долгосрочное влияние изменений на пользовательский опыт или бизнес-стратегию компании."
      ],
      "metadata": {
        "id": "a1vk0zUkFiHD"
      }
    }
  ]
}